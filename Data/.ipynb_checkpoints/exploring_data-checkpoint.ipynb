{
 "cells": [
  {
   "cell_type": "markdown",
   "metadata": {
    "ExecuteTime": {
     "end_time": "2018-12-01T21:05:54.982285Z",
     "start_time": "2018-12-01T21:05:54.978308Z"
    }
   },
   "source": [
    "# Exploring data sets (observations x variables)"
   ]
  },
  {
   "cell_type": "code",
   "execution_count": 2,
   "metadata": {
    "ExecuteTime": {
     "end_time": "2018-12-08T11:04:05.019190Z",
     "start_time": "2018-12-08T11:04:03.995884Z"
    }
   },
   "outputs": [],
   "source": [
    "import pandas as pd\n",
    "import os \n",
    "import numpy as np\n",
    "path = r'/Users/bfiliot/Desktop/ENSAE/3A/BAYESIEN/PROJET/DATASETS/'"
   ]
  },
  {
   "cell_type": "code",
   "execution_count": 3,
   "metadata": {
    "ExecuteTime": {
     "end_time": "2018-12-08T11:04:05.158773Z",
     "start_time": "2018-12-08T11:04:05.022714Z"
    }
   },
   "outputs": [
    {
     "name": "stdout",
     "output_type": "stream",
     "text": [
      "abalone.data          \u001b[31mmachine.domain\u001b[m\u001b[m        sushi3b.5000.10.order\r\n",
      "abalone.domain        \u001b[31mpyrim.data\u001b[m\u001b[m            sushi3b.5000.10.score\r\n",
      "diabetes.data         \u001b[31mpyrim.domain\u001b[m\u001b[m          toy_samples.dat\r\n",
      "diabetes.domain       r_wpbc.data           toy_test.dat\r\n",
      "exploring_data.ipynb  r_wpbc.domain         toy_train.dat\r\n",
      "\u001b[31mhousing.data\u001b[m\u001b[m          sushi3.idata          \u001b[31mtriazines.data\u001b[m\u001b[m\r\n",
      "\u001b[31mhousing.domain\u001b[m\u001b[m        sushi3.udata          triazines.domain\r\n",
      "\u001b[31mmachine.data\u001b[m\u001b[m          sushi3a.5000.10.order\r\n"
     ]
    }
   ],
   "source": [
    "!ls"
   ]
  },
  {
   "cell_type": "code",
   "execution_count": 4,
   "metadata": {
    "ExecuteTime": {
     "end_time": "2018-12-08T11:04:05.878826Z",
     "start_time": "2018-12-08T11:04:05.872410Z"
    }
   },
   "outputs": [],
   "source": [
    "def read_data(path, data):\n",
    "    p = pd.read_csv(os.path.join(path, data+'.data'), header=None, sep=',')\n",
    "    p.columns = pd.read_csv(os.path.join(path, data+'.domain'), header=None, sep=':').iloc[:,0]\n",
    "    return p"
   ]
  },
  {
   "cell_type": "markdown",
   "metadata": {
    "heading_collapsed": true
   },
   "source": [
    "# DATASETS FOR INSTANCE PREFERENCE (ARTICLE)"
   ]
  },
  {
   "cell_type": "markdown",
   "metadata": {
    "hidden": true
   },
   "source": [
    "These datasets have been used in the article. The idea is simply to gerenate preferences based on the target value to predict. For example, boston housing's target variable is a price, so the authors say that a fictive user will prefer of house (described by some variables, the instances) with a higher price. The same idea holds for the other datasets."
   ]
  },
  {
   "cell_type": "markdown",
   "metadata": {
    "heading_collapsed": true,
    "hidden": true
   },
   "source": [
    "## ABALONE : 4177 x 9"
   ]
  },
  {
   "cell_type": "markdown",
   "metadata": {
    "hidden": true
   },
   "source": [
    "This data set can be used to obtain a model to predict the age of abalone from physical measurements. The age of abalone is determined by cutting the shell through the cone, staining it, and counting the number of rings through a microscope -- a boring and time-consuming task. Other measurements, which are easier to obtain, are used to predict the number of rings which determines the age.\n",
    "\n",
    "Number of Instances: 4177\n",
    "Number of Attributes: 8\n",
    "\n",
    "|Name |\t\tData Type|\tMeasurements |\tDescription|\n",
    "|:----:\t\t|:---------:|\t:-----:|\t:-----------:|\n",
    "\t|Sex\t  |nominal\t\t| - |\tM, F, and I (infant)|\n",
    "\t|Length\t\t|continuous\t|mm\t|Longest shell measurement|\n",
    "\t|Diameter\t|continuous\t|mm\t|perpendicular to length|\n",
    "\t|Height\t\t|continuous\t|mm\t|with meat in shell|\n",
    "\t|Whole weight\t|continuous\t|grams|\twhole abalone|\n",
    "\t|Shucked weight\t|continuous\t|grams|\tweight of meat|\n",
    "\t|Viscera weight\t|continuous\t|grams|\tgut weight (after bleeding)|\n",
    "\t|Shell weight\t|continuous\t|grams|\tafter being dried|\n",
    "\t|Rings\t\t|integer\t\t|-\t|+1.5 gives the age in years|\n",
    "    "
   ]
  },
  {
   "cell_type": "code",
   "execution_count": 5,
   "metadata": {
    "ExecuteTime": {
     "end_time": "2018-12-08T11:04:34.883255Z",
     "start_time": "2018-12-08T11:04:34.790905Z"
    },
    "hidden": true
   },
   "outputs": [
    {
     "name": "stdout",
     "output_type": "stream",
     "text": [
      "4177 rows for 9 columns\n"
     ]
    },
    {
     "data": {
      "text/html": [
       "<div>\n",
       "<style scoped>\n",
       "    .dataframe tbody tr th:only-of-type {\n",
       "        vertical-align: middle;\n",
       "    }\n",
       "\n",
       "    .dataframe tbody tr th {\n",
       "        vertical-align: top;\n",
       "    }\n",
       "\n",
       "    .dataframe thead th {\n",
       "        text-align: right;\n",
       "    }\n",
       "</style>\n",
       "<table border=\"1\" class=\"dataframe\">\n",
       "  <thead>\n",
       "    <tr style=\"text-align: right;\">\n",
       "      <th></th>\n",
       "      <th>sex</th>\n",
       "      <th>length</th>\n",
       "      <th>diameter</th>\n",
       "      <th>height</th>\n",
       "      <th>whole weight</th>\n",
       "      <th>shucked weight</th>\n",
       "      <th>viscera weight</th>\n",
       "      <th>shell weight</th>\n",
       "      <th>rings</th>\n",
       "    </tr>\n",
       "  </thead>\n",
       "  <tbody>\n",
       "    <tr>\n",
       "      <th>0</th>\n",
       "      <td>M</td>\n",
       "      <td>0.455</td>\n",
       "      <td>0.365</td>\n",
       "      <td>0.095</td>\n",
       "      <td>0.5140</td>\n",
       "      <td>0.2245</td>\n",
       "      <td>0.1010</td>\n",
       "      <td>0.150</td>\n",
       "      <td>15</td>\n",
       "    </tr>\n",
       "    <tr>\n",
       "      <th>1</th>\n",
       "      <td>M</td>\n",
       "      <td>0.350</td>\n",
       "      <td>0.265</td>\n",
       "      <td>0.090</td>\n",
       "      <td>0.2255</td>\n",
       "      <td>0.0995</td>\n",
       "      <td>0.0485</td>\n",
       "      <td>0.070</td>\n",
       "      <td>7</td>\n",
       "    </tr>\n",
       "    <tr>\n",
       "      <th>2</th>\n",
       "      <td>F</td>\n",
       "      <td>0.530</td>\n",
       "      <td>0.420</td>\n",
       "      <td>0.135</td>\n",
       "      <td>0.6770</td>\n",
       "      <td>0.2565</td>\n",
       "      <td>0.1415</td>\n",
       "      <td>0.210</td>\n",
       "      <td>9</td>\n",
       "    </tr>\n",
       "    <tr>\n",
       "      <th>3</th>\n",
       "      <td>M</td>\n",
       "      <td>0.440</td>\n",
       "      <td>0.365</td>\n",
       "      <td>0.125</td>\n",
       "      <td>0.5160</td>\n",
       "      <td>0.2155</td>\n",
       "      <td>0.1140</td>\n",
       "      <td>0.155</td>\n",
       "      <td>10</td>\n",
       "    </tr>\n",
       "    <tr>\n",
       "      <th>4</th>\n",
       "      <td>I</td>\n",
       "      <td>0.330</td>\n",
       "      <td>0.255</td>\n",
       "      <td>0.080</td>\n",
       "      <td>0.2050</td>\n",
       "      <td>0.0895</td>\n",
       "      <td>0.0395</td>\n",
       "      <td>0.055</td>\n",
       "      <td>7</td>\n",
       "    </tr>\n",
       "  </tbody>\n",
       "</table>\n",
       "</div>"
      ],
      "text/plain": [
       "0 sex   length   diameter  height  whole weight  shucked weight  \\\n",
       "0    M    0.455     0.365   0.095        0.5140          0.2245   \n",
       "1    M    0.350     0.265   0.090        0.2255          0.0995   \n",
       "2    F    0.530     0.420   0.135        0.6770          0.2565   \n",
       "3    M    0.440     0.365   0.125        0.5160          0.2155   \n",
       "4    I    0.330     0.255   0.080        0.2050          0.0895   \n",
       "\n",
       "0  viscera weight  shell weight  rings  \n",
       "0          0.1010         0.150     15  \n",
       "1          0.0485         0.070      7  \n",
       "2          0.1415         0.210      9  \n",
       "3          0.1140         0.155     10  \n",
       "4          0.0395         0.055      7  "
      ]
     },
     "execution_count": 5,
     "metadata": {},
     "output_type": "execute_result"
    }
   ],
   "source": [
    "p = read_data(path, 'abalone')\n",
    "print('{} rows for {} columns'.format(p.shape[0], p.shape[1]))\n",
    "p.head()"
   ]
  },
  {
   "cell_type": "markdown",
   "metadata": {
    "heading_collapsed": true,
    "hidden": true
   },
   "source": [
    "## DIABETES : 43x3"
   ]
  },
  {
   "cell_type": "markdown",
   "metadata": {
    "hidden": true
   },
   "source": [
    "This data set concerns the study of the factors affecting patterns of insulin-dependent diabetes mellitus in children. The objective is to investigate the dependence of the level of serum C-peptide on the various other factors in order to understand the patterns of residual insulin secretion. The response measurement is the logarithm of C-peptide concentration (pmol/ml) at the diagnosis, and the predictor measurements age and base deficit, a measure of acidity."
   ]
  },
  {
   "cell_type": "code",
   "execution_count": 4,
   "metadata": {
    "ExecuteTime": {
     "end_time": "2018-12-04T23:13:49.898045Z",
     "start_time": "2018-12-04T23:13:49.809443Z"
    },
    "hidden": true
   },
   "outputs": [
    {
     "name": "stdout",
     "output_type": "stream",
     "text": [
      "43 rows for 3 columns\n"
     ]
    },
    {
     "data": {
      "text/html": [
       "<div>\n",
       "<style scoped>\n",
       "    .dataframe tbody tr th:only-of-type {\n",
       "        vertical-align: middle;\n",
       "    }\n",
       "\n",
       "    .dataframe tbody tr th {\n",
       "        vertical-align: top;\n",
       "    }\n",
       "\n",
       "    .dataframe thead th {\n",
       "        text-align: right;\n",
       "    }\n",
       "</style>\n",
       "<table border=\"1\" class=\"dataframe\">\n",
       "  <thead>\n",
       "    <tr style=\"text-align: right;\">\n",
       "      <th></th>\n",
       "      <th>age</th>\n",
       "      <th>deficit</th>\n",
       "      <th>c_peptide</th>\n",
       "    </tr>\n",
       "  </thead>\n",
       "  <tbody>\n",
       "    <tr>\n",
       "      <th>0</th>\n",
       "      <td>5.2</td>\n",
       "      <td>-8.1</td>\n",
       "      <td>4.8</td>\n",
       "    </tr>\n",
       "    <tr>\n",
       "      <th>1</th>\n",
       "      <td>8.8</td>\n",
       "      <td>-16.1</td>\n",
       "      <td>4.1</td>\n",
       "    </tr>\n",
       "    <tr>\n",
       "      <th>2</th>\n",
       "      <td>10.5</td>\n",
       "      <td>-0.9</td>\n",
       "      <td>5.2</td>\n",
       "    </tr>\n",
       "    <tr>\n",
       "      <th>3</th>\n",
       "      <td>10.6</td>\n",
       "      <td>-7.8</td>\n",
       "      <td>5.5</td>\n",
       "    </tr>\n",
       "    <tr>\n",
       "      <th>4</th>\n",
       "      <td>10.4</td>\n",
       "      <td>-29.0</td>\n",
       "      <td>5.0</td>\n",
       "    </tr>\n",
       "  </tbody>\n",
       "</table>\n",
       "</div>"
      ],
      "text/plain": [
       "0  age   deficit   c_peptide \n",
       "0   5.2      -8.1         4.8\n",
       "1   8.8     -16.1         4.1\n",
       "2  10.5      -0.9         5.2\n",
       "3  10.6      -7.8         5.5\n",
       "4  10.4     -29.0         5.0"
      ]
     },
     "execution_count": 4,
     "metadata": {},
     "output_type": "execute_result"
    }
   ],
   "source": [
    "p = read_data(path, 'diabetes')\n",
    "print('{} rows for {} columns'.format(p.shape[0], p.shape[1]))\n",
    "p.head()"
   ]
  },
  {
   "cell_type": "markdown",
   "metadata": {
    "heading_collapsed": true,
    "hidden": true
   },
   "source": [
    "## BOSTON HOUSING : 506x14"
   ]
  },
  {
   "cell_type": "markdown",
   "metadata": {
    "hidden": true
   },
   "source": [
    "This data set concerns the task of predicting housing values in areas of Boston. The used variables and their meaning are the following:\n",
    "- CRIM per capita crime rate by town\n",
    "- ZN proportion of residential land zoned for lots over 25,000 sq.ft.\n",
    "- INDUS proportion of non-retail business acres per town\n",
    "- CHAS Charles River dummy variable (= 1 if tract bounds river; 0 otherwise)\n",
    "- NOX nitric oxides concentration (parts per 10 million)\n",
    "- RM average number of rooms per dwelling\n",
    "- AGE proportion of owner-occupied units built prior to 1940\n",
    "- DIS weighted distances to five Boston employment centres\n",
    "- RAD index of accessibility to radial highways\n",
    "- TAX full-value property-tax rate per \\$10,000\n",
    "- PTRATIO pupil-teacher ratio by town\n",
    "- B 1000(Bk - 0.63)^2 where Bk is the proportion of blacks by town\n",
    "- LSTAT % lower status of the population\n",
    "- **class Median value of owner-occupied homes in $1000's**\n",
    "\n"
   ]
  },
  {
   "cell_type": "code",
   "execution_count": 58,
   "metadata": {
    "ExecuteTime": {
     "end_time": "2018-12-01T21:41:14.575832Z",
     "start_time": "2018-12-01T21:41:14.535571Z"
    },
    "hidden": true
   },
   "outputs": [
    {
     "name": "stdout",
     "output_type": "stream",
     "text": [
      "506 rows for 14 columns\n"
     ]
    },
    {
     "data": {
      "text/html": [
       "<div>\n",
       "<style scoped>\n",
       "    .dataframe tbody tr th:only-of-type {\n",
       "        vertical-align: middle;\n",
       "    }\n",
       "\n",
       "    .dataframe tbody tr th {\n",
       "        vertical-align: top;\n",
       "    }\n",
       "\n",
       "    .dataframe thead th {\n",
       "        text-align: right;\n",
       "    }\n",
       "</style>\n",
       "<table border=\"1\" class=\"dataframe\">\n",
       "  <thead>\n",
       "    <tr style=\"text-align: right;\">\n",
       "      <th></th>\n",
       "      <th>CRIM</th>\n",
       "      <th>ZN</th>\n",
       "      <th>INDUS</th>\n",
       "      <th>CHAS</th>\n",
       "      <th>NOX</th>\n",
       "      <th>RM</th>\n",
       "      <th>AGE</th>\n",
       "      <th>DIS</th>\n",
       "      <th>RAD</th>\n",
       "      <th>TAX</th>\n",
       "      <th>PTRATIO</th>\n",
       "      <th>B</th>\n",
       "      <th>LSTAT</th>\n",
       "      <th>class</th>\n",
       "    </tr>\n",
       "  </thead>\n",
       "  <tbody>\n",
       "    <tr>\n",
       "      <th>0</th>\n",
       "      <td>0.006</td>\n",
       "      <td>18.0</td>\n",
       "      <td>2.31</td>\n",
       "      <td>0</td>\n",
       "      <td>0.538</td>\n",
       "      <td>6.575</td>\n",
       "      <td>65.2</td>\n",
       "      <td>4.090</td>\n",
       "      <td>1</td>\n",
       "      <td>296.0</td>\n",
       "      <td>15.3</td>\n",
       "      <td>396.898</td>\n",
       "      <td>4.98</td>\n",
       "      <td>24.0</td>\n",
       "    </tr>\n",
       "    <tr>\n",
       "      <th>1</th>\n",
       "      <td>0.027</td>\n",
       "      <td>0.0</td>\n",
       "      <td>7.07</td>\n",
       "      <td>0</td>\n",
       "      <td>0.469</td>\n",
       "      <td>6.421</td>\n",
       "      <td>78.9</td>\n",
       "      <td>4.967</td>\n",
       "      <td>2</td>\n",
       "      <td>242.0</td>\n",
       "      <td>17.8</td>\n",
       "      <td>396.898</td>\n",
       "      <td>9.14</td>\n",
       "      <td>21.6</td>\n",
       "    </tr>\n",
       "    <tr>\n",
       "      <th>2</th>\n",
       "      <td>0.027</td>\n",
       "      <td>0.0</td>\n",
       "      <td>7.07</td>\n",
       "      <td>0</td>\n",
       "      <td>0.469</td>\n",
       "      <td>7.185</td>\n",
       "      <td>61.1</td>\n",
       "      <td>4.967</td>\n",
       "      <td>2</td>\n",
       "      <td>242.0</td>\n",
       "      <td>17.8</td>\n",
       "      <td>392.828</td>\n",
       "      <td>4.03</td>\n",
       "      <td>34.7</td>\n",
       "    </tr>\n",
       "    <tr>\n",
       "      <th>3</th>\n",
       "      <td>0.032</td>\n",
       "      <td>0.0</td>\n",
       "      <td>2.18</td>\n",
       "      <td>0</td>\n",
       "      <td>0.458</td>\n",
       "      <td>6.998</td>\n",
       "      <td>45.8</td>\n",
       "      <td>6.062</td>\n",
       "      <td>3</td>\n",
       "      <td>222.0</td>\n",
       "      <td>18.7</td>\n",
       "      <td>394.629</td>\n",
       "      <td>2.94</td>\n",
       "      <td>33.4</td>\n",
       "    </tr>\n",
       "    <tr>\n",
       "      <th>4</th>\n",
       "      <td>0.069</td>\n",
       "      <td>0.0</td>\n",
       "      <td>2.18</td>\n",
       "      <td>0</td>\n",
       "      <td>0.458</td>\n",
       "      <td>7.147</td>\n",
       "      <td>54.2</td>\n",
       "      <td>6.062</td>\n",
       "      <td>3</td>\n",
       "      <td>222.0</td>\n",
       "      <td>18.7</td>\n",
       "      <td>396.898</td>\n",
       "      <td>5.33</td>\n",
       "      <td>36.2</td>\n",
       "    </tr>\n",
       "  </tbody>\n",
       "</table>\n",
       "</div>"
      ],
      "text/plain": [
       "0   CRIM    ZN  INDUS  CHAS    NOX     RM   AGE    DIS  RAD    TAX  PTRATIO  \\\n",
       "0  0.006  18.0   2.31     0  0.538  6.575  65.2  4.090    1  296.0     15.3   \n",
       "1  0.027   0.0   7.07     0  0.469  6.421  78.9  4.967    2  242.0     17.8   \n",
       "2  0.027   0.0   7.07     0  0.469  7.185  61.1  4.967    2  242.0     17.8   \n",
       "3  0.032   0.0   2.18     0  0.458  6.998  45.8  6.062    3  222.0     18.7   \n",
       "4  0.069   0.0   2.18     0  0.458  7.147  54.2  6.062    3  222.0     18.7   \n",
       "\n",
       "0        B  LSTAT  class   \n",
       "0  396.898   4.98    24.0  \n",
       "1  396.898   9.14    21.6  \n",
       "2  392.828   4.03    34.7  \n",
       "3  394.629   2.94    33.4  \n",
       "4  396.898   5.33    36.2  "
      ]
     },
     "execution_count": 58,
     "metadata": {},
     "output_type": "execute_result"
    }
   ],
   "source": [
    "p = read_data(path, 'housing')\n",
    "print('{} rows for {} columns'.format(p.shape[0], p.shape[1]))\n",
    "p.head()"
   ]
  },
  {
   "cell_type": "markdown",
   "metadata": {
    "heading_collapsed": true,
    "hidden": true
   },
   "source": [
    "## MACHINE CPU : 209x7"
   ]
  },
  {
   "cell_type": "markdown",
   "metadata": {
    "hidden": true
   },
   "source": [
    "The used attributes are :\n",
    "- MYCT: machine cycle time in nanoseconds (integer)\n",
    "- MMIN: minimum main memory in kilobytes (integer)\n",
    "- MMAX: maximum main memory in kilobytes (integer)\n",
    "- CACH: cache memory in kilobytes (integer)\n",
    "- CHMIN: minimum channels in units (integer)\n",
    "- CHMAX: maximum channels in units (integer)\n",
    "- **class: published relative performance (integer) (target variable)**"
   ]
  },
  {
   "cell_type": "code",
   "execution_count": 59,
   "metadata": {
    "ExecuteTime": {
     "end_time": "2018-12-01T21:41:37.440384Z",
     "start_time": "2018-12-01T21:41:37.413882Z"
    },
    "hidden": true
   },
   "outputs": [
    {
     "name": "stdout",
     "output_type": "stream",
     "text": [
      "209 rows for 7 columns\n"
     ]
    },
    {
     "data": {
      "text/html": [
       "<div>\n",
       "<style scoped>\n",
       "    .dataframe tbody tr th:only-of-type {\n",
       "        vertical-align: middle;\n",
       "    }\n",
       "\n",
       "    .dataframe tbody tr th {\n",
       "        vertical-align: top;\n",
       "    }\n",
       "\n",
       "    .dataframe thead th {\n",
       "        text-align: right;\n",
       "    }\n",
       "</style>\n",
       "<table border=\"1\" class=\"dataframe\">\n",
       "  <thead>\n",
       "    <tr style=\"text-align: right;\">\n",
       "      <th></th>\n",
       "      <th>MYCT</th>\n",
       "      <th>MMIN</th>\n",
       "      <th>MMAX</th>\n",
       "      <th>CACH</th>\n",
       "      <th>CHMIN</th>\n",
       "      <th>CHMAX</th>\n",
       "      <th>class</th>\n",
       "    </tr>\n",
       "  </thead>\n",
       "  <tbody>\n",
       "    <tr>\n",
       "      <th>0</th>\n",
       "      <td>125</td>\n",
       "      <td>256</td>\n",
       "      <td>6000</td>\n",
       "      <td>256</td>\n",
       "      <td>16</td>\n",
       "      <td>128</td>\n",
       "      <td>198</td>\n",
       "    </tr>\n",
       "    <tr>\n",
       "      <th>1</th>\n",
       "      <td>29</td>\n",
       "      <td>8000</td>\n",
       "      <td>32000</td>\n",
       "      <td>32</td>\n",
       "      <td>8</td>\n",
       "      <td>32</td>\n",
       "      <td>269</td>\n",
       "    </tr>\n",
       "    <tr>\n",
       "      <th>2</th>\n",
       "      <td>29</td>\n",
       "      <td>8000</td>\n",
       "      <td>32000</td>\n",
       "      <td>32</td>\n",
       "      <td>8</td>\n",
       "      <td>32</td>\n",
       "      <td>220</td>\n",
       "    </tr>\n",
       "    <tr>\n",
       "      <th>3</th>\n",
       "      <td>29</td>\n",
       "      <td>8000</td>\n",
       "      <td>32000</td>\n",
       "      <td>32</td>\n",
       "      <td>8</td>\n",
       "      <td>32</td>\n",
       "      <td>172</td>\n",
       "    </tr>\n",
       "    <tr>\n",
       "      <th>4</th>\n",
       "      <td>29</td>\n",
       "      <td>8000</td>\n",
       "      <td>16000</td>\n",
       "      <td>32</td>\n",
       "      <td>8</td>\n",
       "      <td>16</td>\n",
       "      <td>132</td>\n",
       "    </tr>\n",
       "  </tbody>\n",
       "</table>\n",
       "</div>"
      ],
      "text/plain": [
       "0  MYCT  MMIN   MMAX  CACH  CHMIN  CHMAX  class\n",
       "0   125   256   6000   256     16    128    198\n",
       "1    29  8000  32000    32      8     32    269\n",
       "2    29  8000  32000    32      8     32    220\n",
       "3    29  8000  32000    32      8     32    172\n",
       "4    29  8000  16000    32      8     16    132"
      ]
     },
     "execution_count": 59,
     "metadata": {},
     "output_type": "execute_result"
    }
   ],
   "source": [
    "p = read_data(path, 'machine')\n",
    "print('{} rows for {} columns'.format(p.shape[0], p.shape[1]))\n",
    "p.head()"
   ]
  },
  {
   "cell_type": "markdown",
   "metadata": {
    "heading_collapsed": true,
    "hidden": true
   },
   "source": [
    "## PYRIMINIDES : 74 x 28"
   ]
  },
  {
   "cell_type": "markdown",
   "metadata": {
    "hidden": true
   },
   "source": [
    "44 trimethoprim analogues (chemicals) and their observed inhibition of Escherichia coli dihydrofolate reductase (activity : target variable). (?)"
   ]
  },
  {
   "cell_type": "code",
   "execution_count": 60,
   "metadata": {
    "ExecuteTime": {
     "end_time": "2018-12-01T21:41:55.586845Z",
     "start_time": "2018-12-01T21:41:55.536010Z"
    },
    "hidden": true
   },
   "outputs": [
    {
     "name": "stdout",
     "output_type": "stream",
     "text": [
      "74 rows for 28 columns\n"
     ]
    },
    {
     "data": {
      "text/html": [
       "<div>\n",
       "<style scoped>\n",
       "    .dataframe tbody tr th:only-of-type {\n",
       "        vertical-align: middle;\n",
       "    }\n",
       "\n",
       "    .dataframe tbody tr th {\n",
       "        vertical-align: top;\n",
       "    }\n",
       "\n",
       "    .dataframe thead th {\n",
       "        text-align: right;\n",
       "    }\n",
       "</style>\n",
       "<table border=\"1\" class=\"dataframe\">\n",
       "  <thead>\n",
       "    <tr style=\"text-align: right;\">\n",
       "      <th></th>\n",
       "      <th>p1_polar</th>\n",
       "      <th>p1_size</th>\n",
       "      <th>p1_flex</th>\n",
       "      <th>p1_h_doner</th>\n",
       "      <th>p1_h_acceptor</th>\n",
       "      <th>p1_pi_doner</th>\n",
       "      <th>p1_pi_acceptor</th>\n",
       "      <th>p1_polarisable</th>\n",
       "      <th>p1_sigma</th>\n",
       "      <th>p2_polar</th>\n",
       "      <th>...</th>\n",
       "      <th>p3_polar</th>\n",
       "      <th>p3_size</th>\n",
       "      <th>p3_flex</th>\n",
       "      <th>p3_h_doner</th>\n",
       "      <th>p3_h_acceptor</th>\n",
       "      <th>p3_pi_doner</th>\n",
       "      <th>p3_pi_acceptor</th>\n",
       "      <th>p3_polarisable</th>\n",
       "      <th>p3_sigma</th>\n",
       "      <th>activity</th>\n",
       "    </tr>\n",
       "  </thead>\n",
       "  <tbody>\n",
       "    <tr>\n",
       "      <th>0</th>\n",
       "      <td>0.5</td>\n",
       "      <td>0.26</td>\n",
       "      <td>0.1</td>\n",
       "      <td>0.9</td>\n",
       "      <td>0.9</td>\n",
       "      <td>0.9</td>\n",
       "      <td>0.1</td>\n",
       "      <td>0.367</td>\n",
       "      <td>0.42</td>\n",
       "      <td>0.26</td>\n",
       "      <td>...</td>\n",
       "      <td>0.367</td>\n",
       "      <td>0.100</td>\n",
       "      <td>0.1</td>\n",
       "      <td>0.1</td>\n",
       "      <td>0.1</td>\n",
       "      <td>0.1</td>\n",
       "      <td>0.0</td>\n",
       "      <td>0.100</td>\n",
       "      <td>0.100</td>\n",
       "      <td>0.571</td>\n",
       "    </tr>\n",
       "    <tr>\n",
       "      <th>1</th>\n",
       "      <td>0.5</td>\n",
       "      <td>0.26</td>\n",
       "      <td>0.1</td>\n",
       "      <td>0.1</td>\n",
       "      <td>0.1</td>\n",
       "      <td>0.5</td>\n",
       "      <td>0.1</td>\n",
       "      <td>0.367</td>\n",
       "      <td>0.58</td>\n",
       "      <td>0.42</td>\n",
       "      <td>...</td>\n",
       "      <td>0.900</td>\n",
       "      <td>0.367</td>\n",
       "      <td>0.1</td>\n",
       "      <td>0.1</td>\n",
       "      <td>0.1</td>\n",
       "      <td>0.5</td>\n",
       "      <td>0.0</td>\n",
       "      <td>0.367</td>\n",
       "      <td>0.900</td>\n",
       "      <td>0.900</td>\n",
       "    </tr>\n",
       "    <tr>\n",
       "      <th>2</th>\n",
       "      <td>0.3</td>\n",
       "      <td>0.42</td>\n",
       "      <td>0.1</td>\n",
       "      <td>0.1</td>\n",
       "      <td>0.5</td>\n",
       "      <td>0.5</td>\n",
       "      <td>0.1</td>\n",
       "      <td>0.367</td>\n",
       "      <td>0.26</td>\n",
       "      <td>0.26</td>\n",
       "      <td>...</td>\n",
       "      <td>0.633</td>\n",
       "      <td>0.633</td>\n",
       "      <td>0.1</td>\n",
       "      <td>0.1</td>\n",
       "      <td>0.5</td>\n",
       "      <td>0.5</td>\n",
       "      <td>0.0</td>\n",
       "      <td>0.367</td>\n",
       "      <td>0.367</td>\n",
       "      <td>0.833</td>\n",
       "    </tr>\n",
       "    <tr>\n",
       "      <th>3</th>\n",
       "      <td>0.1</td>\n",
       "      <td>0.74</td>\n",
       "      <td>0.7</td>\n",
       "      <td>0.1</td>\n",
       "      <td>0.5</td>\n",
       "      <td>0.1</td>\n",
       "      <td>0.1</td>\n",
       "      <td>0.367</td>\n",
       "      <td>0.10</td>\n",
       "      <td>0.26</td>\n",
       "      <td>...</td>\n",
       "      <td>0.367</td>\n",
       "      <td>0.100</td>\n",
       "      <td>0.1</td>\n",
       "      <td>0.1</td>\n",
       "      <td>0.1</td>\n",
       "      <td>0.1</td>\n",
       "      <td>0.0</td>\n",
       "      <td>0.100</td>\n",
       "      <td>0.100</td>\n",
       "      <td>0.582</td>\n",
       "    </tr>\n",
       "    <tr>\n",
       "      <th>4</th>\n",
       "      <td>0.1</td>\n",
       "      <td>0.42</td>\n",
       "      <td>0.4</td>\n",
       "      <td>0.1</td>\n",
       "      <td>0.5</td>\n",
       "      <td>0.1</td>\n",
       "      <td>0.1</td>\n",
       "      <td>0.367</td>\n",
       "      <td>0.10</td>\n",
       "      <td>0.26</td>\n",
       "      <td>...</td>\n",
       "      <td>0.367</td>\n",
       "      <td>0.100</td>\n",
       "      <td>0.1</td>\n",
       "      <td>0.1</td>\n",
       "      <td>0.1</td>\n",
       "      <td>0.1</td>\n",
       "      <td>0.0</td>\n",
       "      <td>0.100</td>\n",
       "      <td>0.100</td>\n",
       "      <td>0.587</td>\n",
       "    </tr>\n",
       "  </tbody>\n",
       "</table>\n",
       "<p>5 rows × 28 columns</p>\n",
       "</div>"
      ],
      "text/plain": [
       "0  p1_polar   p1_size   p1_flex   p1_h_doner   p1_h_acceptor   p1_pi_doner   \\\n",
       "0        0.5      0.26       0.1          0.9             0.9           0.9   \n",
       "1        0.5      0.26       0.1          0.1             0.1           0.5   \n",
       "2        0.3      0.42       0.1          0.1             0.5           0.5   \n",
       "3        0.1      0.74       0.7          0.1             0.5           0.1   \n",
       "4        0.1      0.42       0.4          0.1             0.5           0.1   \n",
       "\n",
       "0  p1_pi_acceptor   p1_polarisable   p1_sigma   p2_polar     ...      \\\n",
       "0              0.1            0.367       0.42       0.26    ...       \n",
       "1              0.1            0.367       0.58       0.42    ...       \n",
       "2              0.1            0.367       0.26       0.26    ...       \n",
       "3              0.1            0.367       0.10       0.26    ...       \n",
       "4              0.1            0.367       0.10       0.26    ...       \n",
       "\n",
       "0  p3_polar   p3_size   p3_flex   p3_h_doner   p3_h_acceptor   p3_pi_doner   \\\n",
       "0      0.367     0.100       0.1          0.1             0.1           0.1   \n",
       "1      0.900     0.367       0.1          0.1             0.1           0.5   \n",
       "2      0.633     0.633       0.1          0.1             0.5           0.5   \n",
       "3      0.367     0.100       0.1          0.1             0.1           0.1   \n",
       "4      0.367     0.100       0.1          0.1             0.1           0.1   \n",
       "\n",
       "0  p3_pi_acceptor   p3_polarisable   p3_sigma   activity   \n",
       "0              0.0            0.100      0.100      0.571  \n",
       "1              0.0            0.367      0.900      0.900  \n",
       "2              0.0            0.367      0.367      0.833  \n",
       "3              0.0            0.100      0.100      0.582  \n",
       "4              0.0            0.100      0.100      0.587  \n",
       "\n",
       "[5 rows x 28 columns]"
      ]
     },
     "execution_count": 60,
     "metadata": {},
     "output_type": "execute_result"
    }
   ],
   "source": [
    "p = read_data(path, 'pyrim')\n",
    "print('{} rows for {} columns'.format(p.shape[0], p.shape[1]))\n",
    "p.head()"
   ]
  },
  {
   "cell_type": "markdown",
   "metadata": {
    "heading_collapsed": true,
    "hidden": true
   },
   "source": [
    "## WISCONSIN BREAST CANCER : 194x33"
   ]
  },
  {
   "cell_type": "markdown",
   "metadata": {
    "hidden": true
   },
   "source": [
    "Predicting Time To Recur (field 3 in recurrent records).\n",
    "Each record represents follow-up data for one breast cancer case. These are consecutive patients seen by Dr. Wolberg since 1984, and include only those cases exhibiting invasive breast cancer and no evidence of distant metastases at the time of diagnosis. \n",
    "The first 30 features are computed from a digitized image of a fine needle aspirate (FNA) of a breast mass. They describe characteristics of the cell nuclei present in the image.\n",
    "\n",
    "Attributes : \n",
    "- Lymph node status - number of positive axillary lymph nodes observed at time of surgery\n",
    "- Ten real-valued features are computed :\n",
    "    - radius (mean of distances from center to points on the perimeter)\n",
    "    - texture (standard deviation of gray-scale values)\n",
    "    - perimeter\n",
    "    - area\n",
    "    - smoothness (local variation in radius lengths)\n",
    "    - compactness (perimeter^2 / area - 1.0)\n",
    "    - concavity (severity of concave portions of the contour)\n",
    "    - concave points (number of concave portions of the contour)\n",
    "    - symmetry \n",
    "    - fractal dimension (\"coastline approximation\" - 1)\n",
    "    \n",
    "The mean, standard error, and \"worst\" or largest (mean of the three largest values) of these features were computed for each image, resulting in 30 features. \n",
    "- Tumor size - diameter of the excised tumor in centimeters\n",
    "\n",
    "**Target : \n",
    "- Time (recurrence time or disease-free time) **"
   ]
  },
  {
   "cell_type": "code",
   "execution_count": 61,
   "metadata": {
    "ExecuteTime": {
     "end_time": "2018-12-01T21:42:11.434065Z",
     "start_time": "2018-12-01T21:42:11.380996Z"
    },
    "hidden": true
   },
   "outputs": [
    {
     "name": "stdout",
     "output_type": "stream",
     "text": [
      "194 rows for 33 columns\n"
     ]
    },
    {
     "data": {
      "text/html": [
       "<div>\n",
       "<style scoped>\n",
       "    .dataframe tbody tr th:only-of-type {\n",
       "        vertical-align: middle;\n",
       "    }\n",
       "\n",
       "    .dataframe tbody tr th {\n",
       "        vertical-align: top;\n",
       "    }\n",
       "\n",
       "    .dataframe thead th {\n",
       "        text-align: right;\n",
       "    }\n",
       "</style>\n",
       "<table border=\"1\" class=\"dataframe\">\n",
       "  <thead>\n",
       "    <tr style=\"text-align: right;\">\n",
       "      <th></th>\n",
       "      <th>Lymph_node</th>\n",
       "      <th>radius_mean</th>\n",
       "      <th>texture_mean</th>\n",
       "      <th>perimeter_mean</th>\n",
       "      <th>area_mean</th>\n",
       "      <th>smoothness_mean</th>\n",
       "      <th>compactness_mean</th>\n",
       "      <th>concavity_mean</th>\n",
       "      <th>concave_points_mean</th>\n",
       "      <th>symmetry_mean</th>\n",
       "      <th>...</th>\n",
       "      <th>perimeter_worst</th>\n",
       "      <th>area_worst</th>\n",
       "      <th>smoothness_worst</th>\n",
       "      <th>compactness_worst</th>\n",
       "      <th>concavity_worst</th>\n",
       "      <th>concave_points_worst</th>\n",
       "      <th>symmetry_worst</th>\n",
       "      <th>fractal_dimension_worst</th>\n",
       "      <th>Tumor_size</th>\n",
       "      <th>Time</th>\n",
       "    </tr>\n",
       "  </thead>\n",
       "  <tbody>\n",
       "    <tr>\n",
       "      <th>0</th>\n",
       "      <td>5</td>\n",
       "      <td>18.02</td>\n",
       "      <td>27.60</td>\n",
       "      <td>117.50</td>\n",
       "      <td>1013.0</td>\n",
       "      <td>0.09489</td>\n",
       "      <td>0.1036</td>\n",
       "      <td>0.1086</td>\n",
       "      <td>0.07055</td>\n",
       "      <td>0.1865</td>\n",
       "      <td>...</td>\n",
       "      <td>139.70</td>\n",
       "      <td>1436.0</td>\n",
       "      <td>0.1195</td>\n",
       "      <td>0.1926</td>\n",
       "      <td>0.3140</td>\n",
       "      <td>0.1170</td>\n",
       "      <td>0.2677</td>\n",
       "      <td>0.08113</td>\n",
       "      <td>5.0</td>\n",
       "      <td>31</td>\n",
       "    </tr>\n",
       "    <tr>\n",
       "      <th>1</th>\n",
       "      <td>2</td>\n",
       "      <td>17.99</td>\n",
       "      <td>10.38</td>\n",
       "      <td>122.80</td>\n",
       "      <td>1001.0</td>\n",
       "      <td>0.11840</td>\n",
       "      <td>0.2776</td>\n",
       "      <td>0.3001</td>\n",
       "      <td>0.14710</td>\n",
       "      <td>0.2419</td>\n",
       "      <td>...</td>\n",
       "      <td>184.60</td>\n",
       "      <td>2019.0</td>\n",
       "      <td>0.1622</td>\n",
       "      <td>0.6656</td>\n",
       "      <td>0.7119</td>\n",
       "      <td>0.2654</td>\n",
       "      <td>0.4601</td>\n",
       "      <td>0.11890</td>\n",
       "      <td>3.0</td>\n",
       "      <td>61</td>\n",
       "    </tr>\n",
       "    <tr>\n",
       "      <th>2</th>\n",
       "      <td>0</td>\n",
       "      <td>21.37</td>\n",
       "      <td>17.44</td>\n",
       "      <td>137.50</td>\n",
       "      <td>1373.0</td>\n",
       "      <td>0.08836</td>\n",
       "      <td>0.1189</td>\n",
       "      <td>0.1255</td>\n",
       "      <td>0.08180</td>\n",
       "      <td>0.2333</td>\n",
       "      <td>...</td>\n",
       "      <td>159.10</td>\n",
       "      <td>1949.0</td>\n",
       "      <td>0.1188</td>\n",
       "      <td>0.3449</td>\n",
       "      <td>0.3414</td>\n",
       "      <td>0.2032</td>\n",
       "      <td>0.4334</td>\n",
       "      <td>0.09067</td>\n",
       "      <td>2.5</td>\n",
       "      <td>116</td>\n",
       "    </tr>\n",
       "    <tr>\n",
       "      <th>3</th>\n",
       "      <td>0</td>\n",
       "      <td>11.42</td>\n",
       "      <td>20.38</td>\n",
       "      <td>77.58</td>\n",
       "      <td>386.1</td>\n",
       "      <td>0.14250</td>\n",
       "      <td>0.2839</td>\n",
       "      <td>0.2414</td>\n",
       "      <td>0.10520</td>\n",
       "      <td>0.2597</td>\n",
       "      <td>...</td>\n",
       "      <td>98.87</td>\n",
       "      <td>567.7</td>\n",
       "      <td>0.2098</td>\n",
       "      <td>0.8663</td>\n",
       "      <td>0.6869</td>\n",
       "      <td>0.2575</td>\n",
       "      <td>0.6638</td>\n",
       "      <td>0.17300</td>\n",
       "      <td>2.0</td>\n",
       "      <td>123</td>\n",
       "    </tr>\n",
       "    <tr>\n",
       "      <th>4</th>\n",
       "      <td>0</td>\n",
       "      <td>20.29</td>\n",
       "      <td>14.34</td>\n",
       "      <td>135.10</td>\n",
       "      <td>1297.0</td>\n",
       "      <td>0.10030</td>\n",
       "      <td>0.1328</td>\n",
       "      <td>0.1980</td>\n",
       "      <td>0.10430</td>\n",
       "      <td>0.1809</td>\n",
       "      <td>...</td>\n",
       "      <td>152.20</td>\n",
       "      <td>1575.0</td>\n",
       "      <td>0.1374</td>\n",
       "      <td>0.2050</td>\n",
       "      <td>0.4000</td>\n",
       "      <td>0.1625</td>\n",
       "      <td>0.2364</td>\n",
       "      <td>0.07678</td>\n",
       "      <td>3.5</td>\n",
       "      <td>27</td>\n",
       "    </tr>\n",
       "  </tbody>\n",
       "</table>\n",
       "<p>5 rows × 33 columns</p>\n",
       "</div>"
      ],
      "text/plain": [
       "0  Lymph_node\\t  radius_mean\\t  texture_mean\\t  perimeter_mean\\t  area_mean\\t  \\\n",
       "0             5          18.02           27.60            117.50       1013.0   \n",
       "1             2          17.99           10.38            122.80       1001.0   \n",
       "2             0          21.37           17.44            137.50       1373.0   \n",
       "3             0          11.42           20.38             77.58        386.1   \n",
       "4             0          20.29           14.34            135.10       1297.0   \n",
       "\n",
       "0  smoothness_mean\\t  compactness_mean\\t  concavity_mean\\t  \\\n",
       "0            0.09489              0.1036            0.1086   \n",
       "1            0.11840              0.2776            0.3001   \n",
       "2            0.08836              0.1189            0.1255   \n",
       "3            0.14250              0.2839            0.2414   \n",
       "4            0.10030              0.1328            0.1980   \n",
       "\n",
       "0  concave_points_mean\\t  symmetry_mean\\t   ...    perimeter_worst\\t  \\\n",
       "0                0.07055           0.1865   ...               139.70   \n",
       "1                0.14710           0.2419   ...               184.60   \n",
       "2                0.08180           0.2333   ...               159.10   \n",
       "3                0.10520           0.2597   ...                98.87   \n",
       "4                0.10430           0.1809   ...               152.20   \n",
       "\n",
       "0  area_worst\\t  smoothness_worst\\t  compactness_worst\\t  concavity_worst\\t  \\\n",
       "0        1436.0              0.1195               0.1926             0.3140   \n",
       "1        2019.0              0.1622               0.6656             0.7119   \n",
       "2        1949.0              0.1188               0.3449             0.3414   \n",
       "3         567.7              0.2098               0.8663             0.6869   \n",
       "4        1575.0              0.1374               0.2050             0.4000   \n",
       "\n",
       "0  concave_points_worst\\t  symmetry_worst\\t  fractal_dimension_worst\\t  \\\n",
       "0                  0.1170            0.2677                    0.08113   \n",
       "1                  0.2654            0.4601                    0.11890   \n",
       "2                  0.2032            0.4334                    0.09067   \n",
       "3                  0.2575            0.6638                    0.17300   \n",
       "4                  0.1625            0.2364                    0.07678   \n",
       "\n",
       "0  Tumor_size\\t  Time\\t  \n",
       "0           5.0      31  \n",
       "1           3.0      61  \n",
       "2           2.5     116  \n",
       "3           2.0     123  \n",
       "4           3.5      27  \n",
       "\n",
       "[5 rows x 33 columns]"
      ]
     },
     "execution_count": 61,
     "metadata": {},
     "output_type": "execute_result"
    }
   ],
   "source": [
    "p = read_data(path, 'r_wpbc')\n",
    "print('{} rows for {} columns'.format(p.shape[0], p.shape[1]))\n",
    "p.head()"
   ]
  },
  {
   "cell_type": "markdown",
   "metadata": {
    "heading_collapsed": true,
    "hidden": true
   },
   "source": [
    "## TRIAZINES : 186x61"
   ]
  },
  {
   "cell_type": "markdown",
   "metadata": {
    "hidden": true
   },
   "source": [
    " The the goal is to predict the inhibition of dihydrofolate reductase by pyrimidines. (?)"
   ]
  },
  {
   "cell_type": "code",
   "execution_count": 62,
   "metadata": {
    "ExecuteTime": {
     "end_time": "2018-12-01T21:42:30.901126Z",
     "start_time": "2018-12-01T21:42:30.845802Z"
    },
    "hidden": true
   },
   "outputs": [
    {
     "name": "stdout",
     "output_type": "stream",
     "text": [
      "186 rows for 61 columns\n"
     ]
    },
    {
     "data": {
      "text/html": [
       "<div>\n",
       "<style scoped>\n",
       "    .dataframe tbody tr th:only-of-type {\n",
       "        vertical-align: middle;\n",
       "    }\n",
       "\n",
       "    .dataframe tbody tr th {\n",
       "        vertical-align: top;\n",
       "    }\n",
       "\n",
       "    .dataframe thead th {\n",
       "        text-align: right;\n",
       "    }\n",
       "</style>\n",
       "<table border=\"1\" class=\"dataframe\">\n",
       "  <thead>\n",
       "    <tr style=\"text-align: right;\">\n",
       "      <th></th>\n",
       "      <th>p1_polar</th>\n",
       "      <th>p1_size</th>\n",
       "      <th>p1_flex</th>\n",
       "      <th>p1_h_doner</th>\n",
       "      <th>p1_h_acceptor</th>\n",
       "      <th>p1_pi_doner</th>\n",
       "      <th>p1_pi_acceptor</th>\n",
       "      <th>p1_polarisable</th>\n",
       "      <th>p1_sigma</th>\n",
       "      <th>p1_branch</th>\n",
       "      <th>...</th>\n",
       "      <th>p6_size</th>\n",
       "      <th>p6_flex</th>\n",
       "      <th>p6_h_doner</th>\n",
       "      <th>p6_h_acceptor</th>\n",
       "      <th>p6_pi_doner</th>\n",
       "      <th>p6_pi_acceptor</th>\n",
       "      <th>p6_polarisable</th>\n",
       "      <th>p6_sigma</th>\n",
       "      <th>p6_branch</th>\n",
       "      <th>activity</th>\n",
       "    </tr>\n",
       "  </thead>\n",
       "  <tbody>\n",
       "    <tr>\n",
       "      <th>0</th>\n",
       "      <td>0.58</td>\n",
       "      <td>0.233</td>\n",
       "      <td>0.100</td>\n",
       "      <td>0.1</td>\n",
       "      <td>0.100</td>\n",
       "      <td>0.5</td>\n",
       "      <td>0.1</td>\n",
       "      <td>0.5</td>\n",
       "      <td>0.900</td>\n",
       "      <td>0.1</td>\n",
       "      <td>...</td>\n",
       "      <td>0.5</td>\n",
       "      <td>0.1</td>\n",
       "      <td>0.1</td>\n",
       "      <td>0.1</td>\n",
       "      <td>0.1</td>\n",
       "      <td>0.9</td>\n",
       "      <td>0.9</td>\n",
       "      <td>0.633</td>\n",
       "      <td>0.633</td>\n",
       "      <td>0.726</td>\n",
       "    </tr>\n",
       "    <tr>\n",
       "      <th>1</th>\n",
       "      <td>0.10</td>\n",
       "      <td>0.100</td>\n",
       "      <td>0.100</td>\n",
       "      <td>0.1</td>\n",
       "      <td>0.100</td>\n",
       "      <td>0.1</td>\n",
       "      <td>0.1</td>\n",
       "      <td>0.1</td>\n",
       "      <td>0.100</td>\n",
       "      <td>0.1</td>\n",
       "      <td>...</td>\n",
       "      <td>0.1</td>\n",
       "      <td>0.1</td>\n",
       "      <td>0.1</td>\n",
       "      <td>0.1</td>\n",
       "      <td>0.1</td>\n",
       "      <td>0.1</td>\n",
       "      <td>0.1</td>\n",
       "      <td>0.100</td>\n",
       "      <td>0.100</td>\n",
       "      <td>0.564</td>\n",
       "    </tr>\n",
       "    <tr>\n",
       "      <th>2</th>\n",
       "      <td>0.26</td>\n",
       "      <td>0.100</td>\n",
       "      <td>0.100</td>\n",
       "      <td>0.1</td>\n",
       "      <td>0.100</td>\n",
       "      <td>0.1</td>\n",
       "      <td>0.1</td>\n",
       "      <td>0.1</td>\n",
       "      <td>0.100</td>\n",
       "      <td>0.1</td>\n",
       "      <td>...</td>\n",
       "      <td>0.1</td>\n",
       "      <td>0.1</td>\n",
       "      <td>0.1</td>\n",
       "      <td>0.1</td>\n",
       "      <td>0.1</td>\n",
       "      <td>0.1</td>\n",
       "      <td>0.1</td>\n",
       "      <td>0.100</td>\n",
       "      <td>0.100</td>\n",
       "      <td>0.734</td>\n",
       "    </tr>\n",
       "    <tr>\n",
       "      <th>3</th>\n",
       "      <td>0.42</td>\n",
       "      <td>0.500</td>\n",
       "      <td>0.633</td>\n",
       "      <td>0.1</td>\n",
       "      <td>0.633</td>\n",
       "      <td>0.5</td>\n",
       "      <td>0.1</td>\n",
       "      <td>0.5</td>\n",
       "      <td>0.367</td>\n",
       "      <td>0.1</td>\n",
       "      <td>...</td>\n",
       "      <td>0.1</td>\n",
       "      <td>0.1</td>\n",
       "      <td>0.1</td>\n",
       "      <td>0.1</td>\n",
       "      <td>0.1</td>\n",
       "      <td>0.1</td>\n",
       "      <td>0.1</td>\n",
       "      <td>0.100</td>\n",
       "      <td>0.100</td>\n",
       "      <td>0.780</td>\n",
       "    </tr>\n",
       "    <tr>\n",
       "      <th>4</th>\n",
       "      <td>0.58</td>\n",
       "      <td>0.233</td>\n",
       "      <td>0.100</td>\n",
       "      <td>0.1</td>\n",
       "      <td>0.100</td>\n",
       "      <td>0.5</td>\n",
       "      <td>0.1</td>\n",
       "      <td>0.5</td>\n",
       "      <td>0.900</td>\n",
       "      <td>0.1</td>\n",
       "      <td>...</td>\n",
       "      <td>0.1</td>\n",
       "      <td>0.1</td>\n",
       "      <td>0.1</td>\n",
       "      <td>0.1</td>\n",
       "      <td>0.1</td>\n",
       "      <td>0.1</td>\n",
       "      <td>0.1</td>\n",
       "      <td>0.100</td>\n",
       "      <td>0.100</td>\n",
       "      <td>0.678</td>\n",
       "    </tr>\n",
       "  </tbody>\n",
       "</table>\n",
       "<p>5 rows × 61 columns</p>\n",
       "</div>"
      ],
      "text/plain": [
       "0  p1_polar   p1_size   p1_flex   p1_h_doner   p1_h_acceptor   p1_pi_doner   \\\n",
       "0       0.58     0.233     0.100          0.1           0.100           0.5   \n",
       "1       0.10     0.100     0.100          0.1           0.100           0.1   \n",
       "2       0.26     0.100     0.100          0.1           0.100           0.1   \n",
       "3       0.42     0.500     0.633          0.1           0.633           0.5   \n",
       "4       0.58     0.233     0.100          0.1           0.100           0.5   \n",
       "\n",
       "0  p1_pi_acceptor   p1_polarisable   p1_sigma   p1_branch     ...      \\\n",
       "0              0.1              0.5      0.900         0.1    ...       \n",
       "1              0.1              0.1      0.100         0.1    ...       \n",
       "2              0.1              0.1      0.100         0.1    ...       \n",
       "3              0.1              0.5      0.367         0.1    ...       \n",
       "4              0.1              0.5      0.900         0.1    ...       \n",
       "\n",
       "0  p6_size   p6_flex   p6_h_doner   p6_h_acceptor   p6_pi_doner   \\\n",
       "0       0.5       0.1          0.1             0.1           0.1   \n",
       "1       0.1       0.1          0.1             0.1           0.1   \n",
       "2       0.1       0.1          0.1             0.1           0.1   \n",
       "3       0.1       0.1          0.1             0.1           0.1   \n",
       "4       0.1       0.1          0.1             0.1           0.1   \n",
       "\n",
       "0  p6_pi_acceptor   p6_polarisable   p6_sigma   p6_branch   activity   \n",
       "0              0.9              0.9      0.633       0.633      0.726  \n",
       "1              0.1              0.1      0.100       0.100      0.564  \n",
       "2              0.1              0.1      0.100       0.100      0.734  \n",
       "3              0.1              0.1      0.100       0.100      0.780  \n",
       "4              0.1              0.1      0.100       0.100      0.678  \n",
       "\n",
       "[5 rows x 61 columns]"
      ]
     },
     "execution_count": 62,
     "metadata": {},
     "output_type": "execute_result"
    }
   ],
   "source": [
    "p = read_data(path, 'triazines')\n",
    "print('{} rows for {} columns'.format(p.shape[0], p.shape[1]))\n",
    "p.head()"
   ]
  },
  {
   "cell_type": "markdown",
   "metadata": {
    "heading_collapsed": true,
    "hidden": true
   },
   "source": [
    "## TOY DATASET FROM ARTICLE : 100x21"
   ]
  },
  {
   "cell_type": "markdown",
   "metadata": {
    "hidden": true
   },
   "source": [
    "Samples"
   ]
  },
  {
   "cell_type": "code",
   "execution_count": 11,
   "metadata": {
    "ExecuteTime": {
     "end_time": "2018-12-08T11:09:51.654586Z",
     "start_time": "2018-12-08T11:09:51.609602Z"
    },
    "hidden": true
   },
   "outputs": [
    {
     "name": "stdout",
     "output_type": "stream",
     "text": [
      "100 rows for 21 columns\n"
     ]
    },
    {
     "data": {
      "text/html": [
       "<div>\n",
       "<style scoped>\n",
       "    .dataframe tbody tr th:only-of-type {\n",
       "        vertical-align: middle;\n",
       "    }\n",
       "\n",
       "    .dataframe tbody tr th {\n",
       "        vertical-align: top;\n",
       "    }\n",
       "\n",
       "    .dataframe thead th {\n",
       "        text-align: right;\n",
       "    }\n",
       "</style>\n",
       "<table border=\"1\" class=\"dataframe\">\n",
       "  <thead>\n",
       "    <tr style=\"text-align: right;\">\n",
       "      <th></th>\n",
       "      <th>0</th>\n",
       "      <th>1</th>\n",
       "      <th>2</th>\n",
       "      <th>3</th>\n",
       "      <th>4</th>\n",
       "      <th>5</th>\n",
       "      <th>6</th>\n",
       "      <th>7</th>\n",
       "      <th>8</th>\n",
       "      <th>9</th>\n",
       "      <th>...</th>\n",
       "      <th>11</th>\n",
       "      <th>12</th>\n",
       "      <th>13</th>\n",
       "      <th>14</th>\n",
       "      <th>15</th>\n",
       "      <th>16</th>\n",
       "      <th>17</th>\n",
       "      <th>18</th>\n",
       "      <th>19</th>\n",
       "      <th>20</th>\n",
       "    </tr>\n",
       "  </thead>\n",
       "  <tbody>\n",
       "    <tr>\n",
       "      <th>0</th>\n",
       "      <td>-0.432565</td>\n",
       "      <td>-1.187777</td>\n",
       "      <td>0.635274</td>\n",
       "      <td>-0.896043</td>\n",
       "      <td>-0.071539</td>\n",
       "      <td>-1.444004</td>\n",
       "      <td>1.141773</td>\n",
       "      <td>-0.373461</td>\n",
       "      <td>0.758193</td>\n",
       "      <td>0.440836</td>\n",
       "      <td>...</td>\n",
       "      <td>1.684295</td>\n",
       "      <td>-0.072801</td>\n",
       "      <td>-0.759267</td>\n",
       "      <td>0.530979</td>\n",
       "      <td>-2.103747</td>\n",
       "      <td>0.809537</td>\n",
       "      <td>-1.315840</td>\n",
       "      <td>-0.246258</td>\n",
       "      <td>0.866884</td>\n",
       "      <td>NaN</td>\n",
       "    </tr>\n",
       "    <tr>\n",
       "      <th>1</th>\n",
       "      <td>-1.665584</td>\n",
       "      <td>-2.202321</td>\n",
       "      <td>-0.601412</td>\n",
       "      <td>0.135175</td>\n",
       "      <td>0.279198</td>\n",
       "      <td>0.612340</td>\n",
       "      <td>1.551936</td>\n",
       "      <td>-0.832030</td>\n",
       "      <td>-0.691940</td>\n",
       "      <td>0.565384</td>\n",
       "      <td>...</td>\n",
       "      <td>0.119528</td>\n",
       "      <td>-0.994310</td>\n",
       "      <td>-0.595170</td>\n",
       "      <td>2.134498</td>\n",
       "      <td>-0.664684</td>\n",
       "      <td>1.928793</td>\n",
       "      <td>-0.301519</td>\n",
       "      <td>-0.145741</td>\n",
       "      <td>2.431569</td>\n",
       "      <td>NaN</td>\n",
       "    </tr>\n",
       "    <tr>\n",
       "      <th>2</th>\n",
       "      <td>0.125332</td>\n",
       "      <td>0.986337</td>\n",
       "      <td>0.551185</td>\n",
       "      <td>-0.139040</td>\n",
       "      <td>1.373275</td>\n",
       "      <td>-1.323503</td>\n",
       "      <td>1.383630</td>\n",
       "      <td>0.286866</td>\n",
       "      <td>0.680179</td>\n",
       "      <td>-0.693623</td>\n",
       "      <td>...</td>\n",
       "      <td>0.650667</td>\n",
       "      <td>-0.747358</td>\n",
       "      <td>0.812400</td>\n",
       "      <td>0.354361</td>\n",
       "      <td>1.450110</td>\n",
       "      <td>0.396057</td>\n",
       "      <td>-2.599588</td>\n",
       "      <td>-1.169008</td>\n",
       "      <td>0.110204</td>\n",
       "      <td>NaN</td>\n",
       "    </tr>\n",
       "    <tr>\n",
       "      <th>3</th>\n",
       "      <td>0.287676</td>\n",
       "      <td>-0.518635</td>\n",
       "      <td>-1.099840</td>\n",
       "      <td>-1.163395</td>\n",
       "      <td>0.179841</td>\n",
       "      <td>-0.661577</td>\n",
       "      <td>-0.758092</td>\n",
       "      <td>-1.818892</td>\n",
       "      <td>-1.072541</td>\n",
       "      <td>0.833869</td>\n",
       "      <td>...</td>\n",
       "      <td>2.080061</td>\n",
       "      <td>-0.030814</td>\n",
       "      <td>0.069541</td>\n",
       "      <td>0.231700</td>\n",
       "      <td>-0.329805</td>\n",
       "      <td>-0.861399</td>\n",
       "      <td>0.780078</td>\n",
       "      <td>-0.022011</td>\n",
       "      <td>0.026449</td>\n",
       "      <td>NaN</td>\n",
       "    </tr>\n",
       "    <tr>\n",
       "      <th>4</th>\n",
       "      <td>-1.146471</td>\n",
       "      <td>0.327368</td>\n",
       "      <td>0.085991</td>\n",
       "      <td>1.183720</td>\n",
       "      <td>-0.542017</td>\n",
       "      <td>-0.146115</td>\n",
       "      <td>0.442663</td>\n",
       "      <td>-1.573051</td>\n",
       "      <td>0.899772</td>\n",
       "      <td>-2.237378</td>\n",
       "      <td>...</td>\n",
       "      <td>-0.339225</td>\n",
       "      <td>0.988355</td>\n",
       "      <td>-1.833687</td>\n",
       "      <td>1.287980</td>\n",
       "      <td>2.701872</td>\n",
       "      <td>2.431936</td>\n",
       "      <td>0.602941</td>\n",
       "      <td>0.618278</td>\n",
       "      <td>0.970324</td>\n",
       "      <td>NaN</td>\n",
       "    </tr>\n",
       "  </tbody>\n",
       "</table>\n",
       "<p>5 rows × 21 columns</p>\n",
       "</div>"
      ],
      "text/plain": [
       "         0         1         2         3         4         5         6   \\\n",
       "0 -0.432565 -1.187777  0.635274 -0.896043 -0.071539 -1.444004  1.141773   \n",
       "1 -1.665584 -2.202321 -0.601412  0.135175  0.279198  0.612340  1.551936   \n",
       "2  0.125332  0.986337  0.551185 -0.139040  1.373275 -1.323503  1.383630   \n",
       "3  0.287676 -0.518635 -1.099840 -1.163395  0.179841 -0.661577 -0.758092   \n",
       "4 -1.146471  0.327368  0.085991  1.183720 -0.542017 -0.146115  0.442663   \n",
       "\n",
       "         7         8         9  ...        11        12        13        14  \\\n",
       "0 -0.373461  0.758193  0.440836 ...  1.684295 -0.072801 -0.759267  0.530979   \n",
       "1 -0.832030 -0.691940  0.565384 ...  0.119528 -0.994310 -0.595170  2.134498   \n",
       "2  0.286866  0.680179 -0.693623 ...  0.650667 -0.747358  0.812400  0.354361   \n",
       "3 -1.818892 -1.072541  0.833869 ...  2.080061 -0.030814  0.069541  0.231700   \n",
       "4 -1.573051  0.899772 -2.237378 ... -0.339225  0.988355 -1.833687  1.287980   \n",
       "\n",
       "         15        16        17        18        19  20  \n",
       "0 -2.103747  0.809537 -1.315840 -0.246258  0.866884 NaN  \n",
       "1 -0.664684  1.928793 -0.301519 -0.145741  2.431569 NaN  \n",
       "2  1.450110  0.396057 -2.599588 -1.169008  0.110204 NaN  \n",
       "3 -0.329805 -0.861399  0.780078 -0.022011  0.026449 NaN  \n",
       "4  2.701872  2.431936  0.602941  0.618278  0.970324 NaN  \n",
       "\n",
       "[5 rows x 21 columns]"
      ]
     },
     "execution_count": 11,
     "metadata": {},
     "output_type": "execute_result"
    }
   ],
   "source": [
    "p = pd.read_csv(os.path.join(path, 'toy_samples.dat'), header=None, sep=' ')\n",
    "print('{} rows for {} columns'.format(p.shape[0], p.shape[1]))\n",
    "p.head()"
   ]
  },
  {
   "cell_type": "markdown",
   "metadata": {
    "hidden": true
   },
   "source": [
    "Preferences for train set (to be viewed as : \"9th observation is prefered to 31th one\")."
   ]
  },
  {
   "cell_type": "code",
   "execution_count": 12,
   "metadata": {
    "ExecuteTime": {
     "end_time": "2018-12-08T11:10:32.744517Z",
     "start_time": "2018-12-08T11:10:32.725788Z"
    },
    "hidden": true
   },
   "outputs": [
    {
     "name": "stdout",
     "output_type": "stream",
     "text": [
      "98 rows for 2 columns\n"
     ]
    },
    {
     "data": {
      "text/html": [
       "<div>\n",
       "<style scoped>\n",
       "    .dataframe tbody tr th:only-of-type {\n",
       "        vertical-align: middle;\n",
       "    }\n",
       "\n",
       "    .dataframe tbody tr th {\n",
       "        vertical-align: top;\n",
       "    }\n",
       "\n",
       "    .dataframe thead th {\n",
       "        text-align: right;\n",
       "    }\n",
       "</style>\n",
       "<table border=\"1\" class=\"dataframe\">\n",
       "  <thead>\n",
       "    <tr style=\"text-align: right;\">\n",
       "      <th></th>\n",
       "      <th>0</th>\n",
       "      <th>1</th>\n",
       "    </tr>\n",
       "  </thead>\n",
       "  <tbody>\n",
       "    <tr>\n",
       "      <th>0</th>\n",
       "      <td>31</td>\n",
       "      <td>9</td>\n",
       "    </tr>\n",
       "    <tr>\n",
       "      <th>1</th>\n",
       "      <td>23</td>\n",
       "      <td>59</td>\n",
       "    </tr>\n",
       "    <tr>\n",
       "      <th>2</th>\n",
       "      <td>25</td>\n",
       "      <td>96</td>\n",
       "    </tr>\n",
       "    <tr>\n",
       "      <th>3</th>\n",
       "      <td>16</td>\n",
       "      <td>21</td>\n",
       "    </tr>\n",
       "    <tr>\n",
       "      <th>4</th>\n",
       "      <td>44</td>\n",
       "      <td>51</td>\n",
       "    </tr>\n",
       "  </tbody>\n",
       "</table>\n",
       "</div>"
      ],
      "text/plain": [
       "    0   1\n",
       "0  31   9\n",
       "1  23  59\n",
       "2  25  96\n",
       "3  16  21\n",
       "4  44  51"
      ]
     },
     "execution_count": 12,
     "metadata": {},
     "output_type": "execute_result"
    }
   ],
   "source": [
    "p = pd.read_csv(os.path.join(path, 'toy_train.dat'), header=None, sep=' ')\n",
    "print('{} rows for {} columns'.format(p.shape[0], p.shape[1]))\n",
    "p.head()"
   ]
  },
  {
   "cell_type": "markdown",
   "metadata": {
    "heading_collapsed": true
   },
   "source": [
    "# DATASETS FOR INSTANCE PREFERENCE AND LABEL PREFERENCE (OWN PROPOSAL)"
   ]
  },
  {
   "cell_type": "markdown",
   "metadata": {
    "hidden": true
   },
   "source": [
    "The drawback with the previous approach is that preferences are drawn using a very simplistic scheme. So it is also interesting to consider datasets whose preferences are real and based on surveys. "
   ]
  },
  {
   "cell_type": "code",
   "execution_count": 29,
   "metadata": {
    "ExecuteTime": {
     "end_time": "2018-12-05T11:19:29.799921Z",
     "start_time": "2018-12-05T11:19:29.659267Z"
    },
    "hidden": true
   },
   "outputs": [
    {
     "name": "stdout",
     "output_type": "stream",
     "text": [
      "abalone.data          \u001b[31mmachine.domain\u001b[m\u001b[m        sushi3b.5000.10.order\r\n",
      "abalone.domain        \u001b[31mpyrim.data\u001b[m\u001b[m            sushi3b.5000.10.score\r\n",
      "diabetes.data         \u001b[31mpyrim.domain\u001b[m\u001b[m          toy_samples.dat\r\n",
      "diabetes.domain       r_wpbc.data           toy_test.dat\r\n",
      "exploring_data.ipynb  r_wpbc.domain         toy_train.dat\r\n",
      "\u001b[31mhousing.data\u001b[m\u001b[m          sushi3.idata          \u001b[31mtriazines.data\u001b[m\u001b[m\r\n",
      "\u001b[31mhousing.domain\u001b[m\u001b[m        sushi3.udata          triazines.domain\r\n",
      "\u001b[31mmachine.data\u001b[m\u001b[m          sushi3a.5000.10.order\r\n"
     ]
    }
   ],
   "source": [
    "!ls"
   ]
  },
  {
   "cell_type": "markdown",
   "metadata": {
    "heading_collapsed": true,
    "hidden": true
   },
   "source": [
    "## SUSHI"
   ]
  },
  {
   "cell_type": "markdown",
   "metadata": {
    "hidden": true
   },
   "source": [
    "The SUSHI Preference Data Set includes responses of a questionnaire survey of preference in SUSHI. These preference are collected by a scoring method using a five-point-scale, and additionally by a ranking method. A ranking method is a one of method for performing a sensory test. In this method, the respondents sort given objects according to their preference order. This data set also includes demographic data of respondents and features of SUSHI.\n",
    "\n",
    "<span style=\"color:red\"> *Methodology*: \n",
    "\n",
    "- STEP 1: (ranking method 1)\n",
    "• We asked each respondent to sort objects in the item set \"A\" (**10 SUSHIs**) according to the respondent's preference in an ascending order. *For example IDs for set A are : \n",
    "0:ebi          1:anago        2:maguro       3:ika          4:uni\n",
    " (shrimp)        (sea eel)      (tuna)         (squid)        (sea urchin)\n",
    "5:ikura        6:tamago       7:toro         8:tekka_maki   9:kappa_maki\n",
    " (salmon roe)   (egg)          (fatty tuna)   (tuna roll)    (cucumber roll)*\n",
    "- STEP 2: scoring method \n",
    "• We asked the respondent to rate their preferences in objects of the item set \"B\" (**100 SUSHIs**) by the scoring method using a five-point-scale.\n",
    "- STEP 3: \n",
    "• How oily do you think these SUSHI are?\n",
    "- STEP 4:\n",
    "• How frequently do you eat these SUSHI?\n",
    "- STEP 5: (ranking method 2)\n",
    "• We asked the respondent to sort the objects in the item set \"B\" according to the respondent's preference in an ascending order.\n",
    "- STEP 6:\n",
    "•Some questions about demographic information of the respondent were given.\n",
    "  \n",
    "<span style=\"color:red\"> *The datasets* </span> (more details on https://github.com/aaronpmishkin/gaussian_processes/blob/master/data/Sushi/README-en.txt):\n",
    "- ```sushi3.idata``` contains a set of 100 different shushis described by 9 variables. **There is no target variable and the dataset is anonymised.**\n",
    "- ```sushi3.udata``` contains a set of 5000 different users described by 11 variables. **There is no target variable and the dataset is anonymised.**\n",
    "- ```sushi3a.5000.10.order``` preference order of SUSHIs in the item set A which is acquired in the step 1\n",
    "- ```sushi3b.5000.10.order``` preference order of SUSHIs in the item set B which is acquired in the step 5\n",
    "- ```sushi3b.5000.10.score``` preference score of SUSHIs in the item set B which is acquired in the step 2\n",
    "\n",
    "<span style=\"color:red\"> We can thus use the datasets ```sushi3a.5000.10.order``` and ```sushi3b.5000.10.order``` for both instance preference and label preference. For instance preference we may take a single user which has ranked 10 sushis by their ID. From this ordering, we can construct $\\frac{10\\times9}{2} = 45$ preferences, but this very few... For label prefrence we should consider all users' graph represented by their suhis ordering (we then has 5000 different graphs of 10 nodes (9 edges). </span>\n",
    "\n"
   ]
  },
  {
   "cell_type": "markdown",
   "metadata": {
    "heading_collapsed": true,
    "hidden": true
   },
   "source": [
    "### Plotting graphs"
   ]
  },
  {
   "cell_type": "code",
   "execution_count": 41,
   "metadata": {
    "ExecuteTime": {
     "end_time": "2018-12-08T11:40:31.688333Z",
     "start_time": "2018-12-08T11:40:31.665584Z"
    },
    "hidden": true
   },
   "outputs": [
    {
     "name": "stdout",
     "output_type": "stream",
     "text": [
      "5001 rows for 1 columns\n"
     ]
    },
    {
     "data": {
      "text/html": [
       "<div>\n",
       "<style scoped>\n",
       "    .dataframe tbody tr th:only-of-type {\n",
       "        vertical-align: middle;\n",
       "    }\n",
       "\n",
       "    .dataframe tbody tr th {\n",
       "        vertical-align: top;\n",
       "    }\n",
       "\n",
       "    .dataframe thead th {\n",
       "        text-align: right;\n",
       "    }\n",
       "</style>\n",
       "<table border=\"1\" class=\"dataframe\">\n",
       "  <thead>\n",
       "    <tr style=\"text-align: right;\">\n",
       "      <th></th>\n",
       "      <th>0</th>\n",
       "    </tr>\n",
       "  </thead>\n",
       "  <tbody>\n",
       "    <tr>\n",
       "      <th>0</th>\n",
       "      <td>100 1</td>\n",
       "    </tr>\n",
       "    <tr>\n",
       "      <th>1</th>\n",
       "      <td>0 10 58 4 3 44 87 60 67 1 12 74</td>\n",
       "    </tr>\n",
       "    <tr>\n",
       "      <th>2</th>\n",
       "      <td>0 10 22 31 60 21 8 24 6 12 17 76</td>\n",
       "    </tr>\n",
       "    <tr>\n",
       "      <th>3</th>\n",
       "      <td>0 10 2 15 13 1 6 25 46 74 56 55</td>\n",
       "    </tr>\n",
       "    <tr>\n",
       "      <th>4</th>\n",
       "      <td>0 10 8 0 3 9 24 43 4 5 29 40</td>\n",
       "    </tr>\n",
       "  </tbody>\n",
       "</table>\n",
       "</div>"
      ],
      "text/plain": [
       "                                  0\n",
       "0                             100 1\n",
       "1   0 10 58 4 3 44 87 60 67 1 12 74\n",
       "2  0 10 22 31 60 21 8 24 6 12 17 76\n",
       "3   0 10 2 15 13 1 6 25 46 74 56 55\n",
       "4      0 10 8 0 3 9 24 43 4 5 29 40"
      ]
     },
     "execution_count": 41,
     "metadata": {},
     "output_type": "execute_result"
    }
   ],
   "source": [
    "p = pd.read_csv(os.path.join(path, 'sushi3b.5000.10.order'), header=None, sep='\\t')\n",
    "print('{} rows for {} columns'.format(p.shape[0], p.shape[1]))\n",
    "p.head(5)"
   ]
  },
  {
   "cell_type": "code",
   "execution_count": 44,
   "metadata": {
    "ExecuteTime": {
     "end_time": "2018-12-08T12:10:36.779449Z",
     "start_time": "2018-12-08T12:10:36.755131Z"
    },
    "hidden": true
   },
   "outputs": [
    {
     "name": "stdout",
     "output_type": "stream",
     "text": [
      "5001 rows for 1 columns\n"
     ]
    },
    {
     "data": {
      "text/html": [
       "<div>\n",
       "<style scoped>\n",
       "    .dataframe tbody tr th:only-of-type {\n",
       "        vertical-align: middle;\n",
       "    }\n",
       "\n",
       "    .dataframe tbody tr th {\n",
       "        vertical-align: top;\n",
       "    }\n",
       "\n",
       "    .dataframe thead th {\n",
       "        text-align: right;\n",
       "    }\n",
       "</style>\n",
       "<table border=\"1\" class=\"dataframe\">\n",
       "  <thead>\n",
       "    <tr style=\"text-align: right;\">\n",
       "      <th></th>\n",
       "      <th>0</th>\n",
       "    </tr>\n",
       "  </thead>\n",
       "  <tbody>\n",
       "    <tr>\n",
       "      <th>0</th>\n",
       "      <td>100 1</td>\n",
       "    </tr>\n",
       "    <tr>\n",
       "      <th>1</th>\n",
       "      <td>0 10 58 4 3 44 87 60 67 1 12 74</td>\n",
       "    </tr>\n",
       "    <tr>\n",
       "      <th>2</th>\n",
       "      <td>0 10 22 31 60 21 8 24 6 12 17 76</td>\n",
       "    </tr>\n",
       "    <tr>\n",
       "      <th>3</th>\n",
       "      <td>0 10 2 15 13 1 6 25 46 74 56 55</td>\n",
       "    </tr>\n",
       "    <tr>\n",
       "      <th>4</th>\n",
       "      <td>0 10 8 0 3 9 24 43 4 5 29 40</td>\n",
       "    </tr>\n",
       "  </tbody>\n",
       "</table>\n",
       "</div>"
      ],
      "text/plain": [
       "                                  0\n",
       "0                             100 1\n",
       "1   0 10 58 4 3 44 87 60 67 1 12 74\n",
       "2  0 10 22 31 60 21 8 24 6 12 17 76\n",
       "3   0 10 2 15 13 1 6 25 46 74 56 55\n",
       "4      0 10 8 0 3 9 24 43 4 5 29 40"
      ]
     },
     "execution_count": 44,
     "metadata": {},
     "output_type": "execute_result"
    }
   ],
   "source": [
    "p = pd.read_csv(os.path.join(path, 'sushi3b.5000.10.order'), header=None, sep='\\t')\n",
    "print('{} rows for {} columns'.format(p.shape[0], p.shape[1]))\n",
    "p.head(5)"
   ]
  },
  {
   "cell_type": "code",
   "execution_count": 216,
   "metadata": {
    "ExecuteTime": {
     "end_time": "2018-12-08T13:02:21.261665Z",
     "start_time": "2018-12-08T13:02:21.224533Z"
    },
    "hidden": true
   },
   "outputs": [],
   "source": [
    "import networkx as nx\n",
    "import matplotlib.pyplot as plt\n",
    "from networkx.drawing.nx_agraph import to_agraph \n",
    "\n",
    "def to_preference(user):\n",
    "    x = p.iloc[user, 0]\n",
    "    return np.array(str.split(x)[2:]).astype('int').tolist()\n",
    "\n",
    "def compute_linear_edges(a):\n",
    "    nodes = []\n",
    "    for i in range(len(a)-1):\n",
    "        nodes.append((a[i], a[i+1]))\n",
    "    return nodes\n",
    "\n",
    "def compute_all_edges(a):\n",
    "    nodes = []\n",
    "    for i in range(len(a)):\n",
    "        for j in range(i+1,len(a)):\n",
    "           nodes.append((a[i], a[j]))\n",
    "    return nodes\n",
    "\n",
    "def get_positions(a, mode):\n",
    "    if mode=='compute_all_edges':\n",
    "        return None\n",
    "    else:\n",
    "        positions = {}\n",
    "        for x in a:\n",
    "            positions[x] = (a.index(x), 0)\n",
    "        return positions\n",
    "\n",
    "def draw_graph(user, mode, a):\n",
    "    w = 10 if mode=='compute_all_edges' else 3\n",
    "    plt.figure(figsize=(15,w))\n",
    "    nx.draw(G, pos=get_positions(a, mode), with_labels=True, font_weight='bold', node_size=1e3)\n",
    "    plt.title('Preferences of user '+ str(user),  fontsize=20)\n",
    "    plt.show()\n",
    "    \n",
    "def pipeline(user, mode):\n",
    "    G = nx.DiGraph()\n",
    "    a = to_preference(user)\n",
    "    G.add_nodes_from(a)\n",
    "    eval('G.add_edges_from('+mode+'(a))')\n",
    "    draw_graph(user, mode, a)"
   ]
  },
  {
   "cell_type": "code",
   "execution_count": 220,
   "metadata": {
    "ExecuteTime": {
     "end_time": "2018-12-08T13:23:56.668706Z",
     "start_time": "2018-12-08T13:23:56.005758Z"
    },
    "hidden": true
   },
   "outputs": [
    {
     "data": {
      "image/png": "[encoded data removed]",
      "text/plain": [
       "<Figure size 1080x216 with 1 Axes>"
      ]
     },
     "metadata": {},
     "output_type": "display_data"
    }
   ],
   "source": [
    "pipeline(user=1, mode='compute_linear_edges')"
   ]
  },
  {
   "cell_type": "code",
   "execution_count": 221,
   "metadata": {
    "ExecuteTime": {
     "end_time": "2018-12-08T13:23:58.806625Z",
     "start_time": "2018-12-08T13:23:58.031742Z"
    },
    "hidden": true
   },
   "outputs": [
    {
     "data": {
      "image/png": "[encoded data removed]",
      "text/plain": [
       "<Figure size 1080x720 with 1 Axes>"
      ]
     },
     "metadata": {},
     "output_type": "display_data"
    }
   ],
   "source": [
    "pipeline(user=2, mode='compute_all_edges')"
   ]
  }
 ],
 "metadata": {
  "author": "mes",
  "hide_input": false,
  "kernelspec": {
   "display_name": "Python 3",
   "language": "python",
   "name": "python3"
  },
  "language_info": {
   "codemirror_mode": {
    "name": "ipython",
    "version": 3
   },
   "file_extension": ".py",
   "mimetype": "text/x-python",
   "name": "python",
   "nbconvert_exporter": "python",
   "pygments_lexer": "ipython3",
   "version": "3.5.6"
  },
  "latex_envs": {
   "LaTeX_envs_menu_present": true,
   "autoclose": false,
   "autocomplete": true,
   "bibliofile": "biblio.bib",
   "cite_by": "apalike",
   "current_citInitial": 1,
   "eqLabelWithNumbers": true,
   "eqNumInitial": 1,
   "hotkeys": {
    "equation": "Ctrl-E",
    "itemize": "Ctrl-I"
   },
   "labels_anchors": false,
   "latex_user_defs": false,
   "report_style_numbering": false,
   "user_envs_cfg": false
  },
  "toc": {
   "base_numbering": 1,
   "nav_menu": {},
   "number_sections": false,
   "sideBar": true,
   "skip_h1_title": false,
   "title_cell": "Table of Contents",
   "title_sidebar": "Contents",
   "toc_cell": false,
   "toc_position": {},
   "toc_section_display": true,
   "toc_window_display": true
  }
 },
 "nbformat": 4,
 "nbformat_minor": 2
}
